{
 "cells": [
  {
   "cell_type": "code",
   "execution_count": null,
   "metadata": {},
   "outputs": [],
   "source": [
    "#### import module ####  \n",
    "\n",
    "import pandas as pd\n",
    "import numpy as np\n",
    "import seaborn as sns\n",
    "import matplotlib.pyplot as plt\n",
    "import math\n",
    "from sklearn.model_selection import train_test_split\n",
    "\n",
    "import random\n",
    "import os\n",
    "import re\n",
    "\n",
    "import optuna\n",
    "from optuna import Trial, visualization\n",
    "from optuna.samplers import TPESampler\n",
    "\n",
    "from catboost import CatBoostRegressor\n",
    "\n",
    "import warnings\n",
    "warnings.filterwarnings(action='ignore')"
   ]
  },
  {
   "cell_type": "code",
   "execution_count": null,
   "metadata": {},
   "outputs": [],
   "source": [
    "#### load data and set seed ####\n",
    "\n",
    "path= './data/'\n",
    "\n",
    "users = pd.read_csv(path + 'my_users.csv')\n",
    "books = pd.read_csv(path + 'my_books.csv')\n",
    "train_ratings = pd.read_csv(path + 'train_ratings.csv')\n",
    "test_ratings = pd.read_csv(path + 'test_ratings.csv')\n",
    "submit = pd.read_csv(path + 'sample_submission.csv')\n",
    "\n",
    "\n",
    "def rmse(real, predict):\n",
    "    pred = np.array(predict)\n",
    "    return np.sqrt(np.mean((real-pred) ** 2))\n",
    "\n",
    "SEED = 42\n",
    "def seed_everything(seed = 42):\n",
    "    random.seed(seed)\n",
    "    np.random.seed(seed)\n",
    "    os.environ[\"PYTHONHASHSEED\"] = str(seed)\n",
    "\n",
    "seed_everything(SEED)\n"
   ]
  },
  {
   "cell_type": "code",
   "execution_count": null,
   "metadata": {},
   "outputs": [],
   "source": [
    "#### merge data with ratings tables ####\n",
    "\n",
    "train_ratings = pd.read_csv(path+'train_ratings.csv')\n",
    "test_ratings = pd.read_csv(path+'test_ratings.csv')\n",
    "\n",
    "train_ratings = pd.merge(train_ratings,books, how='right',on='isbn')\n",
    "train_ratings.dropna(subset=['rating'], inplace = True)\n",
    "train_ratings = pd.merge(train_ratings, users, how='right',on='user_id')\n",
    "train_ratings.dropna(subset=['rating'], inplace = True)\n",
    "\n",
    "test_ratings['index'] = test_ratings.index\n",
    "test_ratings = pd.merge(test_ratings,books, how='right',on='isbn')\n",
    "test_ratings.dropna(subset=['rating'], inplace = True)\n",
    "test_ratings = pd.merge(test_ratings, users, how='right',on='user_id')\n",
    "test_ratings.dropna(subset=['rating'], inplace = True)\n",
    "test_ratings = test_ratings.sort_values('index')\n",
    "test_ratings.drop(['index'], axis=1, inplace=True)\n",
    "\n",
    "train_ratings['user_id'] = train_ratings['user_id'].astype('str')\n",
    "test_ratings['user_id'] = test_ratings['user_id'].astype('str')\n",
    "\n",
    "train_ratings['location_city'] = train_ratings['location_city'].astype('str')\n",
    "test_ratings['location_city'] = test_ratings['location_city'].astype('str')\n",
    "\n",
    "train_ratings['location_state'] = train_ratings['location_state'].astype('str')\n",
    "test_ratings['location_state'] = test_ratings['location_state'].astype('str')\n",
    "\n",
    "train_ratings['location_country'] = train_ratings['location_country'].astype('str')\n",
    "test_ratings['location_country'] = test_ratings['location_country'].astype('str')\n"
   ]
  },
  {
   "cell_type": "markdown",
   "metadata": {},
   "source": [
    "**KSY1526 님의 [github](https://github.com/KSY1526/Book-Project-BoostCamp)를 참고하여 작성하였습니다**"
   ]
  },
  {
   "cell_type": "code",
   "execution_count": null,
   "metadata": {},
   "outputs": [],
   "source": [
    "#### using stratified 10-fold ####\n",
    "\n",
    "from sklearn.model_selection import StratifiedKFold\n",
    "skf = StratifiedKFold(n_splits=10, shuffle=True, random_state=SEED)\n",
    "folds = []\n",
    "for train_idx, valid_idx in skf.split(train_ratings, train_ratings['rating']):\n",
    "    folds.append((train_idx,valid_idx))"
   ]
  },
  {
   "cell_type": "code",
   "execution_count": null,
   "metadata": {},
   "outputs": [],
   "source": [
    "#### set optuna object function and train/test catboost model ####\n",
    "\n",
    "def objective(trial):\n",
    "    param = {\n",
    "        \"random_state\":42,\n",
    "        \"objective\" : \"RMSE\",\n",
    "        \"cat_features\" : list(train_ratings.drop(['rating'],axis = 1).columns),\n",
    "        'learning_rate' : trial.suggest_loguniform('learning_rate', 0.01, 0.5),\n",
    "        'bagging_temperature' :trial.suggest_loguniform('bagging_temperature', 0.01, 100.00),\n",
    "        \"n_estimators\":trial.suggest_int(\"n_estimators\", 1000, 10000),\n",
    "        \"max_depth\":trial.suggest_int(\"max_depth\", 4, 16),\n",
    "        'random_strength' :trial.suggest_int('random_strength', 0, 100),\n",
    "        \"l2_leaf_reg\":trial.suggest_float(\"l2_leaf_reg\",1e-8,3e-5),\n",
    "        \"min_child_samples\": trial.suggest_int(\"min_child_samples\", 5, 100),\n",
    "        \"max_bin\": trial.suggest_int(\"max_bin\", 200, 500),\n",
    "        'od_type': trial.suggest_categorical('od_type', ['IncToDec', 'Iter']),\n",
    "    }\n",
    "\n",
    "    model = CatBoostRegressor(**param, task_type='GPU', devices='0')\n",
    "\n",
    "    model.fit(\n",
    "        X_train,\n",
    "        y_train,\n",
    "        eval_set=[(X_valid, y_valid)],\n",
    "        verbose=100\n",
    "    )\n",
    "\n",
    "    cat_pred = model.predict(X_valid)\n",
    "    score = rmse(y_valid, cat_pred)\n",
    "\n",
    "    return score\n",
    "\n",
    "for fold in range(0,10):\n",
    "    print(f'===================================={fold+1}============================================')\n",
    "    train_idx, valid_idx = folds[fold]\n",
    "    X_train = train_ratings.drop(['rating'],axis = 1).iloc[train_idx]\n",
    "    X_valid = train_ratings.drop(['rating'],axis = 1).iloc[valid_idx]\n",
    "    y_train = train_ratings['rating'].iloc[train_idx]\n",
    "    y_valid = train_ratings['rating'].iloc[valid_idx]\n",
    "\n",
    "    sampler = optuna.samplers.TPESampler(seed=42)\n",
    "    study = optuna.create_study(\n",
    "        study_name = 'cat_parameter_opt',\n",
    "        direction = 'minimize',\n",
    "        sampler = sampler,\n",
    "    )\n",
    "    study.optimize(objective, n_trials=10)\n",
    "\n",
    "    model = CatBoostRegressor(**study.best_params, task_type='GPU', devices='0', random_state=SEED, objective='RMSE', \n",
    "                              cat_features=list(train_ratings.drop(['rating'],axis = 1).columns))\n",
    "    model.fit(X_train, y_train)\n",
    "                \n",
    "    pred = model.predict(test_ratings.drop(['rating'], axis = 1))\n",
    "    test_ratings[f'pred_{fold}'] = pred\n",
    "    print(f'================================================================================\\n\\n')"
   ]
  },
  {
   "cell_type": "code",
   "execution_count": null,
   "metadata": {},
   "outputs": [],
   "source": [
    "#### 10개 결과를 평균내어 사용 ####\n",
    "test_ratings['rating'] = (test_ratings['pred_0'] + test_ratings['pred_1'] + test_ratings['pred_2'] + test_ratings['pred_3'] + test_ratings['pred_4'] +test_ratings['pred_5'] +\n",
    "                                            test_ratings['pred_6'] + test_ratings['pred_7'] + test_ratings['pred_8'] + test_ratings['pred_9']) / 10\n",
    "test = test_ratings[['user_id', 'isbn', 'rating']]\n",
    "test.to_csv('submit/CatBoostFinal.csv', index = False)"
   ]
  },
  {
   "cell_type": "code",
   "execution_count": null,
   "metadata": {},
   "outputs": [],
   "source": [
    "#### 은비님 LGBM이랑 9 : 1로 앙상블 ####\n",
    "data1 = pd.read_csv('./submit/CatBoostFinal.csv')\n",
    "data2 = pd.read_csv('./submit/eunbi.csv')\n",
    "\n",
    "data1['rating'] = data1['rating'] * 0.9 + data2['rating'] * 0.1\n",
    "data1.to_csv('submit/EnsembleFinal.csv', index = False)"
   ]
  }
 ],
 "metadata": {
  "kernelspec": {
   "display_name": "Python 3.9.13 64-bit",
   "language": "python",
   "name": "python3"
  },
  "language_info": {
   "name": "python",
   "version": "3.9.13"
  },
  "orig_nbformat": 4,
  "vscode": {
   "interpreter": {
    "hash": "82ed002fa2d4956f5c6aec99bcefe0f73a9f79882f3c9e2319b14958a5896ac5"
   }
  }
 },
 "nbformat": 4,
 "nbformat_minor": 2
}
